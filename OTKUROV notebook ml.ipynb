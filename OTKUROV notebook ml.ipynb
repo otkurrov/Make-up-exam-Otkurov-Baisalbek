{
  "cells": [
    {
      "cell_type": "code",
      "execution_count": 2,
      "metadata": {
        "id": "4PvmLkfRyCdk"
      },
      "outputs": [],
      "source": [
        "import pandas as pd\n",
        "df = pd.read_csv('credit_scores.csv')\n",
        "df = df.drop(columns=[\"SSN\", \"NAME\", \"Customer_ID\", \"ID\"])\n"
      ]
    },
    {
      "cell_type": "code",
      "execution_count": 3,
      "metadata": {
        "id": "EF-MKT_Eyo8k"
      },
      "outputs": [],
      "source": [
        "X = df.drop(columns=[\"Credit_Score\"])\n",
        "y = df[\"Credit_Score\"]"
      ]
    },
    {
      "cell_type": "code",
      "execution_count": 9,
      "metadata": {
        "id": "tx5f8BXEyqf8"
      },
      "outputs": [],
      "source": [
        "from sklearn.model_selection import train_test_split\n",
        "X_train, X_test, y_train, y_test = train_test_split(X, y, test_size=0.8, random_state=1)"
      ]
    },
    {
      "cell_type": "code",
      "execution_count": 7,
      "metadata": {
        "id": "_wXIvBRyyuJV"
      },
      "outputs": [],
      "source": [
        "from sklearn.compose import ColumnTransformer\n",
        "from sklearn.pipeline import Pipeline\n",
        "from sklearn.impute import SimpleImputer\n",
        "from sklearn.preprocessing import StandardScaler, LabelEncoder\n",
        "from sklearn.preprocessing import OneHotEncoder\n",
        "from sklearn.svm import SVC\n",
        "\n",
        "\n",
        "num_features = X.select_dtypes(include=['int64', 'float64']).columns\n",
        "cat_features = X.select_dtypes(include=['object']).columns\n",
        "num_pipeline = Pipeline([\n",
        "    ('imputer', SimpleImputer(strategy='mean')),\n",
        "    ('scaler', StandardScaler())\n",
        "])\n",
        "cat_pipeline = Pipeline([\n",
        "    ('imputer', SimpleImputer(strategy='most_frequent')),\n",
        "    ('onehot', OneHotEncoder(handle_unknown='ignore'))\n",
        "])\n",
        "preprocessor = ColumnTransformer([\n",
        "    ('num', num_pipeline, num_features),\n",
        "    ('cat', cat_pipeline, cat_features)\n",
        "])\n"
      ]
    },
    {
      "cell_type": "code",
      "execution_count": 8,
      "metadata": {
        "colab": {
          "base_uri": "https://localhost:8080/",
          "height": 256
        },
        "id": "dOQW9louyzp4",
        "outputId": "3daecdac-ab3a-4030-9ffd-1993cff5a849"
      },
      "outputs": [
        {
          "data": {
            "text/html": [
              "<style>#sk-container-id-1 {color: black;background-color: white;}#sk-container-id-1 pre{padding: 0;}#sk-container-id-1 div.sk-toggleable {background-color: white;}#sk-container-id-1 label.sk-toggleable__label {cursor: pointer;display: block;width: 100%;margin-bottom: 0;padding: 0.3em;box-sizing: border-box;text-align: center;}#sk-container-id-1 label.sk-toggleable__label-arrow:before {content: \"▸\";float: left;margin-right: 0.25em;color: #696969;}#sk-container-id-1 label.sk-toggleable__label-arrow:hover:before {color: black;}#sk-container-id-1 div.sk-estimator:hover label.sk-toggleable__label-arrow:before {color: black;}#sk-container-id-1 div.sk-toggleable__content {max-height: 0;max-width: 0;overflow: hidden;text-align: left;background-color: #f0f8ff;}#sk-container-id-1 div.sk-toggleable__content pre {margin: 0.2em;color: black;border-radius: 0.25em;background-color: #f0f8ff;}#sk-container-id-1 input.sk-toggleable__control:checked~div.sk-toggleable__content {max-height: 200px;max-width: 100%;overflow: auto;}#sk-container-id-1 input.sk-toggleable__control:checked~label.sk-toggleable__label-arrow:before {content: \"▾\";}#sk-container-id-1 div.sk-estimator input.sk-toggleable__control:checked~label.sk-toggleable__label {background-color: #d4ebff;}#sk-container-id-1 div.sk-label input.sk-toggleable__control:checked~label.sk-toggleable__label {background-color: #d4ebff;}#sk-container-id-1 input.sk-hidden--visually {border: 0;clip: rect(1px 1px 1px 1px);clip: rect(1px, 1px, 1px, 1px);height: 1px;margin: -1px;overflow: hidden;padding: 0;position: absolute;width: 1px;}#sk-container-id-1 div.sk-estimator {font-family: monospace;background-color: #f0f8ff;border: 1px dotted black;border-radius: 0.25em;box-sizing: border-box;margin-bottom: 0.5em;}#sk-container-id-1 div.sk-estimator:hover {background-color: #d4ebff;}#sk-container-id-1 div.sk-parallel-item::after {content: \"\";width: 100%;border-bottom: 1px solid gray;flex-grow: 1;}#sk-container-id-1 div.sk-label:hover label.sk-toggleable__label {background-color: #d4ebff;}#sk-container-id-1 div.sk-serial::before {content: \"\";position: absolute;border-left: 1px solid gray;box-sizing: border-box;top: 0;bottom: 0;left: 50%;z-index: 0;}#sk-container-id-1 div.sk-serial {display: flex;flex-direction: column;align-items: center;background-color: white;padding-right: 0.2em;padding-left: 0.2em;position: relative;}#sk-container-id-1 div.sk-item {position: relative;z-index: 1;}#sk-container-id-1 div.sk-parallel {display: flex;align-items: stretch;justify-content: center;background-color: white;position: relative;}#sk-container-id-1 div.sk-item::before, #sk-container-id-1 div.sk-parallel-item::before {content: \"\";position: absolute;border-left: 1px solid gray;box-sizing: border-box;top: 0;bottom: 0;left: 50%;z-index: -1;}#sk-container-id-1 div.sk-parallel-item {display: flex;flex-direction: column;z-index: 1;position: relative;background-color: white;}#sk-container-id-1 div.sk-parallel-item:first-child::after {align-self: flex-end;width: 50%;}#sk-container-id-1 div.sk-parallel-item:last-child::after {align-self: flex-start;width: 50%;}#sk-container-id-1 div.sk-parallel-item:only-child::after {width: 0;}#sk-container-id-1 div.sk-dashed-wrapped {border: 1px dashed gray;margin: 0 0.4em 0.5em 0.4em;box-sizing: border-box;padding-bottom: 0.4em;background-color: white;}#sk-container-id-1 div.sk-label label {font-family: monospace;font-weight: bold;display: inline-block;line-height: 1.2em;}#sk-container-id-1 div.sk-label-container {text-align: center;}#sk-container-id-1 div.sk-container {/* jupyter's `normalize.less` sets `[hidden] { display: none; }` but bootstrap.min.css set `[hidden] { display: none !important; }` so we also need the `!important` here to be able to override the default hidden behavior on the sphinx rendered scikit-learn.org. See: https://github.com/scikit-learn/scikit-learn/issues/21755 */display: inline-block !important;position: relative;}#sk-container-id-1 div.sk-text-repr-fallback {display: none;}</style><div id=\"sk-container-id-1\" class=\"sk-top-container\"><div class=\"sk-text-repr-fallback\"><pre>GridSearchCV(cv=2,\n",
              "             estimator=Pipeline(steps=[(&#x27;preprocessor&#x27;,\n",
              "                                        ColumnTransformer(transformers=[(&#x27;num&#x27;,\n",
              "                                                                         Pipeline(steps=[(&#x27;imputer&#x27;,\n",
              "                                                                                          SimpleImputer()),\n",
              "                                                                                         (&#x27;scaler&#x27;,\n",
              "                                                                                          StandardScaler())]),\n",
              "                                                                         Index([&#x27;Age&#x27;, &#x27;Annual_Income&#x27;, &#x27;Monthly_Inhand_Salary&#x27;, &#x27;Num_Bank_Accounts&#x27;,\n",
              "       &#x27;Num_Credit_Card&#x27;, &#x27;Interest_Rate&#x27;, &#x27;Delay_from_due_date&#x27;,\n",
              "       &#x27;Num_of_Delayed_Payment&#x27;, &#x27;Changed_Credit_Limit&#x27;,...\n",
              "      dtype=&#x27;object&#x27;)),\n",
              "                                                                        (&#x27;cat&#x27;,\n",
              "                                                                         Pipeline(steps=[(&#x27;imputer&#x27;,\n",
              "                                                                                          SimpleImputer(strategy=&#x27;most_frequent&#x27;)),\n",
              "                                                                                         (&#x27;onehot&#x27;,\n",
              "                                                                                          OneHotEncoder(handle_unknown=&#x27;ignore&#x27;))]),\n",
              "                                                                         Index([&#x27;Month&#x27;, &#x27;Occupation&#x27;, &#x27;Credit_Mix&#x27;, &#x27;Payment_of_Min_Amount&#x27;,\n",
              "       &#x27;Payment_Behaviour&#x27;],\n",
              "      dtype=&#x27;object&#x27;))])),\n",
              "                                       (&#x27;classifier&#x27;, SVC())]),\n",
              "             param_grid={&#x27;classifier__C&#x27;: [0.01, 10, 20],\n",
              "                         &#x27;classifier__kernel&#x27;: [&#x27;linear&#x27;, &#x27;rbf&#x27;]})</pre><b>In a Jupyter environment, please rerun this cell to show the HTML representation or trust the notebook. <br />On GitHub, the HTML representation is unable to render, please try loading this page with nbviewer.org.</b></div><div class=\"sk-container\" hidden><div class=\"sk-item sk-dashed-wrapped\"><div class=\"sk-label-container\"><div class=\"sk-label sk-toggleable\"><input class=\"sk-toggleable__control sk-hidden--visually\" id=\"sk-estimator-id-1\" type=\"checkbox\" ><label for=\"sk-estimator-id-1\" class=\"sk-toggleable__label sk-toggleable__label-arrow\">GridSearchCV</label><div class=\"sk-toggleable__content\"><pre>GridSearchCV(cv=2,\n",
              "             estimator=Pipeline(steps=[(&#x27;preprocessor&#x27;,\n",
              "                                        ColumnTransformer(transformers=[(&#x27;num&#x27;,\n",
              "                                                                         Pipeline(steps=[(&#x27;imputer&#x27;,\n",
              "                                                                                          SimpleImputer()),\n",
              "                                                                                         (&#x27;scaler&#x27;,\n",
              "                                                                                          StandardScaler())]),\n",
              "                                                                         Index([&#x27;Age&#x27;, &#x27;Annual_Income&#x27;, &#x27;Monthly_Inhand_Salary&#x27;, &#x27;Num_Bank_Accounts&#x27;,\n",
              "       &#x27;Num_Credit_Card&#x27;, &#x27;Interest_Rate&#x27;, &#x27;Delay_from_due_date&#x27;,\n",
              "       &#x27;Num_of_Delayed_Payment&#x27;, &#x27;Changed_Credit_Limit&#x27;,...\n",
              "      dtype=&#x27;object&#x27;)),\n",
              "                                                                        (&#x27;cat&#x27;,\n",
              "                                                                         Pipeline(steps=[(&#x27;imputer&#x27;,\n",
              "                                                                                          SimpleImputer(strategy=&#x27;most_frequent&#x27;)),\n",
              "                                                                                         (&#x27;onehot&#x27;,\n",
              "                                                                                          OneHotEncoder(handle_unknown=&#x27;ignore&#x27;))]),\n",
              "                                                                         Index([&#x27;Month&#x27;, &#x27;Occupation&#x27;, &#x27;Credit_Mix&#x27;, &#x27;Payment_of_Min_Amount&#x27;,\n",
              "       &#x27;Payment_Behaviour&#x27;],\n",
              "      dtype=&#x27;object&#x27;))])),\n",
              "                                       (&#x27;classifier&#x27;, SVC())]),\n",
              "             param_grid={&#x27;classifier__C&#x27;: [0.01, 10, 20],\n",
              "                         &#x27;classifier__kernel&#x27;: [&#x27;linear&#x27;, &#x27;rbf&#x27;]})</pre></div></div></div><div class=\"sk-parallel\"><div class=\"sk-parallel-item\"><div class=\"sk-item\"><div class=\"sk-label-container\"><div class=\"sk-label sk-toggleable\"><input class=\"sk-toggleable__control sk-hidden--visually\" id=\"sk-estimator-id-2\" type=\"checkbox\" ><label for=\"sk-estimator-id-2\" class=\"sk-toggleable__label sk-toggleable__label-arrow\">estimator: Pipeline</label><div class=\"sk-toggleable__content\"><pre>Pipeline(steps=[(&#x27;preprocessor&#x27;,\n",
              "                 ColumnTransformer(transformers=[(&#x27;num&#x27;,\n",
              "                                                  Pipeline(steps=[(&#x27;imputer&#x27;,\n",
              "                                                                   SimpleImputer()),\n",
              "                                                                  (&#x27;scaler&#x27;,\n",
              "                                                                   StandardScaler())]),\n",
              "                                                  Index([&#x27;Age&#x27;, &#x27;Annual_Income&#x27;, &#x27;Monthly_Inhand_Salary&#x27;, &#x27;Num_Bank_Accounts&#x27;,\n",
              "       &#x27;Num_Credit_Card&#x27;, &#x27;Interest_Rate&#x27;, &#x27;Delay_from_due_date&#x27;,\n",
              "       &#x27;Num_of_Delayed_Payment&#x27;, &#x27;Changed_Credit_Limit&#x27;,\n",
              "       &#x27;Num_Credit_Inquiries&#x27;, &#x27;Outs...\n",
              "       &#x27;Count_Mortgage Loan&#x27;, &#x27;Count_Student Loan&#x27;,\n",
              "       &#x27;Count_Debt Consolidation Loan&#x27;, &#x27;Count_Payday Loan&#x27;],\n",
              "      dtype=&#x27;object&#x27;)),\n",
              "                                                 (&#x27;cat&#x27;,\n",
              "                                                  Pipeline(steps=[(&#x27;imputer&#x27;,\n",
              "                                                                   SimpleImputer(strategy=&#x27;most_frequent&#x27;)),\n",
              "                                                                  (&#x27;onehot&#x27;,\n",
              "                                                                   OneHotEncoder(handle_unknown=&#x27;ignore&#x27;))]),\n",
              "                                                  Index([&#x27;Month&#x27;, &#x27;Occupation&#x27;, &#x27;Credit_Mix&#x27;, &#x27;Payment_of_Min_Amount&#x27;,\n",
              "       &#x27;Payment_Behaviour&#x27;],\n",
              "      dtype=&#x27;object&#x27;))])),\n",
              "                (&#x27;classifier&#x27;, SVC())])</pre></div></div></div><div class=\"sk-serial\"><div class=\"sk-item\"><div class=\"sk-serial\"><div class=\"sk-item sk-dashed-wrapped\"><div class=\"sk-label-container\"><div class=\"sk-label sk-toggleable\"><input class=\"sk-toggleable__control sk-hidden--visually\" id=\"sk-estimator-id-3\" type=\"checkbox\" ><label for=\"sk-estimator-id-3\" class=\"sk-toggleable__label sk-toggleable__label-arrow\">preprocessor: ColumnTransformer</label><div class=\"sk-toggleable__content\"><pre>ColumnTransformer(transformers=[(&#x27;num&#x27;,\n",
              "                                 Pipeline(steps=[(&#x27;imputer&#x27;, SimpleImputer()),\n",
              "                                                 (&#x27;scaler&#x27;, StandardScaler())]),\n",
              "                                 Index([&#x27;Age&#x27;, &#x27;Annual_Income&#x27;, &#x27;Monthly_Inhand_Salary&#x27;, &#x27;Num_Bank_Accounts&#x27;,\n",
              "       &#x27;Num_Credit_Card&#x27;, &#x27;Interest_Rate&#x27;, &#x27;Delay_from_due_date&#x27;,\n",
              "       &#x27;Num_of_Delayed_Payment&#x27;, &#x27;Changed_Credit_Limit&#x27;,\n",
              "       &#x27;Num_Credit_Inquiries&#x27;, &#x27;Outstanding_Debt&#x27;, &#x27;Credit_Utilizatio...\n",
              "       &#x27;Count_Personal Loan&#x27;, &#x27;Count_Home Equity Loan&#x27;, &#x27;Count_Not Specified&#x27;,\n",
              "       &#x27;Count_Mortgage Loan&#x27;, &#x27;Count_Student Loan&#x27;,\n",
              "       &#x27;Count_Debt Consolidation Loan&#x27;, &#x27;Count_Payday Loan&#x27;],\n",
              "      dtype=&#x27;object&#x27;)),\n",
              "                                (&#x27;cat&#x27;,\n",
              "                                 Pipeline(steps=[(&#x27;imputer&#x27;,\n",
              "                                                  SimpleImputer(strategy=&#x27;most_frequent&#x27;)),\n",
              "                                                 (&#x27;onehot&#x27;,\n",
              "                                                  OneHotEncoder(handle_unknown=&#x27;ignore&#x27;))]),\n",
              "                                 Index([&#x27;Month&#x27;, &#x27;Occupation&#x27;, &#x27;Credit_Mix&#x27;, &#x27;Payment_of_Min_Amount&#x27;,\n",
              "       &#x27;Payment_Behaviour&#x27;],\n",
              "      dtype=&#x27;object&#x27;))])</pre></div></div></div><div class=\"sk-parallel\"><div class=\"sk-parallel-item\"><div class=\"sk-item\"><div class=\"sk-label-container\"><div class=\"sk-label sk-toggleable\"><input class=\"sk-toggleable__control sk-hidden--visually\" id=\"sk-estimator-id-4\" type=\"checkbox\" ><label for=\"sk-estimator-id-4\" class=\"sk-toggleable__label sk-toggleable__label-arrow\">num</label><div class=\"sk-toggleable__content\"><pre>Index([&#x27;Age&#x27;, &#x27;Annual_Income&#x27;, &#x27;Monthly_Inhand_Salary&#x27;, &#x27;Num_Bank_Accounts&#x27;,\n",
              "       &#x27;Num_Credit_Card&#x27;, &#x27;Interest_Rate&#x27;, &#x27;Delay_from_due_date&#x27;,\n",
              "       &#x27;Num_of_Delayed_Payment&#x27;, &#x27;Changed_Credit_Limit&#x27;,\n",
              "       &#x27;Num_Credit_Inquiries&#x27;, &#x27;Outstanding_Debt&#x27;, &#x27;Credit_Utilization_Ratio&#x27;,\n",
              "       &#x27;Credit_History_Age&#x27;, &#x27;Total_EMI_per_month&#x27;, &#x27;Amount_invested_monthly&#x27;,\n",
              "       &#x27;Monthly_Balance&#x27;, &#x27;Count_Auto Loan&#x27;, &#x27;Count_Credit-Builder Loan&#x27;,\n",
              "       &#x27;Count_Personal Loan&#x27;, &#x27;Count_Home Equity Loan&#x27;, &#x27;Count_Not Specified&#x27;,\n",
              "       &#x27;Count_Mortgage Loan&#x27;, &#x27;Count_Student Loan&#x27;,\n",
              "       &#x27;Count_Debt Consolidation Loan&#x27;, &#x27;Count_Payday Loan&#x27;],\n",
              "      dtype=&#x27;object&#x27;)</pre></div></div></div><div class=\"sk-serial\"><div class=\"sk-item\"><div class=\"sk-serial\"><div class=\"sk-item\"><div class=\"sk-estimator sk-toggleable\"><input class=\"sk-toggleable__control sk-hidden--visually\" id=\"sk-estimator-id-5\" type=\"checkbox\" ><label for=\"sk-estimator-id-5\" class=\"sk-toggleable__label sk-toggleable__label-arrow\">SimpleImputer</label><div class=\"sk-toggleable__content\"><pre>SimpleImputer()</pre></div></div></div><div class=\"sk-item\"><div class=\"sk-estimator sk-toggleable\"><input class=\"sk-toggleable__control sk-hidden--visually\" id=\"sk-estimator-id-6\" type=\"checkbox\" ><label for=\"sk-estimator-id-6\" class=\"sk-toggleable__label sk-toggleable__label-arrow\">StandardScaler</label><div class=\"sk-toggleable__content\"><pre>StandardScaler()</pre></div></div></div></div></div></div></div></div><div class=\"sk-parallel-item\"><div class=\"sk-item\"><div class=\"sk-label-container\"><div class=\"sk-label sk-toggleable\"><input class=\"sk-toggleable__control sk-hidden--visually\" id=\"sk-estimator-id-7\" type=\"checkbox\" ><label for=\"sk-estimator-id-7\" class=\"sk-toggleable__label sk-toggleable__label-arrow\">cat</label><div class=\"sk-toggleable__content\"><pre>Index([&#x27;Month&#x27;, &#x27;Occupation&#x27;, &#x27;Credit_Mix&#x27;, &#x27;Payment_of_Min_Amount&#x27;,\n",
              "       &#x27;Payment_Behaviour&#x27;],\n",
              "      dtype=&#x27;object&#x27;)</pre></div></div></div><div class=\"sk-serial\"><div class=\"sk-item\"><div class=\"sk-serial\"><div class=\"sk-item\"><div class=\"sk-estimator sk-toggleable\"><input class=\"sk-toggleable__control sk-hidden--visually\" id=\"sk-estimator-id-8\" type=\"checkbox\" ><label for=\"sk-estimator-id-8\" class=\"sk-toggleable__label sk-toggleable__label-arrow\">SimpleImputer</label><div class=\"sk-toggleable__content\"><pre>SimpleImputer(strategy=&#x27;most_frequent&#x27;)</pre></div></div></div><div class=\"sk-item\"><div class=\"sk-estimator sk-toggleable\"><input class=\"sk-toggleable__control sk-hidden--visually\" id=\"sk-estimator-id-9\" type=\"checkbox\" ><label for=\"sk-estimator-id-9\" class=\"sk-toggleable__label sk-toggleable__label-arrow\">OneHotEncoder</label><div class=\"sk-toggleable__content\"><pre>OneHotEncoder(handle_unknown=&#x27;ignore&#x27;)</pre></div></div></div></div></div></div></div></div></div></div><div class=\"sk-item\"><div class=\"sk-estimator sk-toggleable\"><input class=\"sk-toggleable__control sk-hidden--visually\" id=\"sk-estimator-id-10\" type=\"checkbox\" ><label for=\"sk-estimator-id-10\" class=\"sk-toggleable__label sk-toggleable__label-arrow\">SVC</label><div class=\"sk-toggleable__content\"><pre>SVC()</pre></div></div></div></div></div></div></div></div></div></div></div></div>"
            ],
            "text/plain": [
              "GridSearchCV(cv=2,\n",
              "             estimator=Pipeline(steps=[('preprocessor',\n",
              "                                        ColumnTransformer(transformers=[('num',\n",
              "                                                                         Pipeline(steps=[('imputer',\n",
              "                                                                                          SimpleImputer()),\n",
              "                                                                                         ('scaler',\n",
              "                                                                                          StandardScaler())]),\n",
              "                                                                         Index(['Age', 'Annual_Income', 'Monthly_Inhand_Salary', 'Num_Bank_Accounts',\n",
              "       'Num_Credit_Card', 'Interest_Rate', 'Delay_from_due_date',\n",
              "       'Num_of_Delayed_Payment', 'Changed_Credit_Limit',...\n",
              "      dtype='object')),\n",
              "                                                                        ('cat',\n",
              "                                                                         Pipeline(steps=[('imputer',\n",
              "                                                                                          SimpleImputer(strategy='most_frequent')),\n",
              "                                                                                         ('onehot',\n",
              "                                                                                          OneHotEncoder(handle_unknown='ignore'))]),\n",
              "                                                                         Index(['Month', 'Occupation', 'Credit_Mix', 'Payment_of_Min_Amount',\n",
              "       'Payment_Behaviour'],\n",
              "      dtype='object'))])),\n",
              "                                       ('classifier', SVC())]),\n",
              "             param_grid={'classifier__C': [0.01, 10, 20],\n",
              "                         'classifier__kernel': ['linear', 'rbf']})"
            ]
          },
          "execution_count": 8,
          "metadata": {},
          "output_type": "execute_result"
        }
      ],
      "source": [
        "from sklearn.model_selection import GridSearchCV\n",
        "\n",
        "clf_pipeline = Pipeline([\n",
        "    ('preprocessor', preprocessor),\n",
        "    ('classifier', SVC())\n",
        "])\n",
        "param_grid = {\n",
        "    'classifier__kernel': ['linear', 'rbf'],\n",
        "    'classifier__C': [0.01, 10, 20]\n",
        "}\n",
        "grid_search = GridSearchCV(clf_pipeline, param_grid, cv=2)\n",
        "grid_search.fit(X_train, y_train)\n"
      ]
    },
    {
      "cell_type": "code",
      "execution_count": null,
      "metadata": {
        "colab": {
          "base_uri": "https://localhost:8080/"
        },
        "id": "Xf1gBPfU6gAo",
        "outputId": "07778615-9f1c-4e9d-abf4-b91c75b9b4a3"
      },
      "outputs": [
        {
          "name": "stdout",
          "output_type": "stream",
          "text": [
            "Accuracy of the best model: 0.6390302304699191\n"
          ]
        }
      ],
      "source": [
        "from sklearn.metrics import accuracy_score\n",
        "import joblib\n",
        "best_model = grid_search.best_estimator_\n",
        "y_pred = best_model.predict(X_test)\n",
        "accuracy = accuracy_score(y_test, y_pred)\n",
        "print(f'Accuracy of the best model: {accuracy}')\n",
        "best_model.fit(X, y)\n",
        "joblib.dump(best_model, 'model.pkl')"
      ]
    }
  ],
  "metadata": {
    "colab": {
      "provenance": []
    },
    "kernelspec": {
      "display_name": "Python 3",
      "name": "python3"
    },
    "language_info": {
      "name": "python"
    }
  },
  "nbformat": 4,
  "nbformat_minor": 0
}
